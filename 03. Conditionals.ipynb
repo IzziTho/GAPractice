{
 "cells": [
  {
   "cell_type": "code",
   "execution_count": null,
   "metadata": {
    "id": "RoB4rfbQmUrL"
   },
   "outputs": [],
   "source": [
    "# 3.1 Price Conditions\n",
    "# Translate the following logical decisions into python conditionals"
   ]
  },
  {
   "cell_type": "code",
   "execution_count": 1,
   "metadata": {
    "id": "EfvONp1bmUrO"
   },
   "outputs": [
    {
     "name": "stdout",
     "output_type": "stream",
     "text": [
      "28.749999999999996\n"
     ]
    }
   ],
   "source": [
    "# A. If the price is under 10, add 10% tax to the price. \n",
    "# Otherwise, add 15% luxury tax instead.\n",
    "price = 25\n",
    "if price < 10:\n",
    "    print(price * 1.10)\n",
    "else:\n",
    "    print(price * 1.15)"
   ]
  },
  {
   "cell_type": "code",
   "execution_count": 2,
   "metadata": {
    "id": "rlmK1rfGmUrO"
   },
   "outputs": [
    {
     "name": "stdout",
     "output_type": "stream",
     "text": [
      "20.0\n"
     ]
    }
   ],
   "source": [
    "# B. If the customer's status is \"VIP\", lower the price by 20%\n",
    "customer = { \"name\": \"Lisa Su\", \"status\": \"VIP\" }\n",
    "\n",
    "if customer[\"status\"] == \"VIP\":\n",
    "    price_vip= price*0.8\n",
    "    print(price_vip)"
   ]
  },
  {
   "cell_type": "code",
   "execution_count": 3,
   "metadata": {
    "id": "cqlNvcF3mUrP"
   },
   "outputs": [
    {
     "name": "stdout",
     "output_type": "stream",
     "text": [
      "You get what you pay for. Get the most. Buy now for  25\n"
     ]
    }
   ],
   "source": [
    "# C. Let's alter our advertising based on the price of the product, filling in the blank with the price\n",
    "\n",
    "#    i. If the price is less than 5, print \"For less than a cup of coffee, buy now for _____\"\n",
    "\n",
    "#.   ii. Otherwise, if the price is less than 20, print \"Good value. Great products. Buy now for _____\"\n",
    "#.   iii. Otherwise, print \"You get what you pay for. Get the most. Buy now for ______\"\n",
    "\n",
    "if price < 5:\n",
    "    print(\"For less than a cup of coffee, buy now for \", price)\n",
    "elif price < 20:\n",
    "    print(\"Good value. Great products. Buy now for \", price)\n",
    "else:\n",
    "    print(\"You get what you pay for. Get the most. Buy now for \", price)"
   ]
  },
  {
   "cell_type": "code",
   "execution_count": 4,
   "metadata": {
    "id": "NALVGG8dmUrP"
   },
   "outputs": [
    {
     "name": "stdout",
     "output_type": "stream",
     "text": [
      "Your best value is the 80s Drama DVD for only 2.56\n"
     ]
    }
   ],
   "source": [
    "# D. Given this list of products, use a conditional to figure out which has the lower price.\n",
    "#.   Print a message saying \"Your best value is the _____ for only ______\"\n",
    "#.   Fill in the blanks with the name and price of the cheaper item, respectively\n",
    "bargain_bin = [\n",
    "    {\"name\": \"90s Comedy DVD\", \"price\": 5.99},\n",
    "    {\"name\": \"80s Drama DVD\", \"price\": 2.56}\n",
    "]\n",
    "\n",
    "if bargain_bin[0][\"price\"] < bargain_bin[1][\"price\"]:\n",
    "    print(\"Your best value is the 90s Comedy DVD for only\", bargain_bin[0][\"price\"])\n",
    "else: print(\"Your best value is the 80s Drama DVD for only\", bargain_bin[1][\"price\"])"
   ]
  },
  {
   "cell_type": "code",
   "execution_count": null,
   "metadata": {
    "id": "P7hzlF5QmUrP"
   },
   "outputs": [],
   "source": [
    "# 3.2 Complex Conditions"
   ]
  },
  {
   "cell_type": "code",
   "execution_count": 5,
   "metadata": {
    "id": "W5A0KtiRmUrP"
   },
   "outputs": [
    {
     "name": "stdout",
     "output_type": "stream",
     "text": [
      "b is not a vowel\n"
     ]
    }
   ],
   "source": [
    "# A. Write a conditional that determines whether the letter is a vowel\n",
    "#.   Print a message stating \"___ is a vowel\" or \n",
    "letter = \"b\"\n",
    "vowels=[\"a\",\"e\",\"i\",\"o\",\"u\"]\n",
    "\n",
    "if letter in vowels:\n",
    "    print(letter, \"is a vowel\")\n",
    "else: print(letter, \"is not a vowel\")"
   ]
  },
  {
   "cell_type": "code",
   "execution_count": 6,
   "metadata": {
    "id": "3kng1KyGmUrP"
   },
   "outputs": [
    {
     "name": "stdout",
     "output_type": "stream",
     "text": [
      "lost\n"
     ]
    }
   ],
   "source": [
    "# B. Determine whether the player beat the computer at rock, paper, scissors\n",
    "#    As a reminder, \"rock\" beats \"paper\", \"paper\" beats \"scissors\", and \"scissors\" beats \"rock\"\n",
    "#.   Print a message saying whether the player won, lost, or tied\n",
    "player_choice = \"rock\"\n",
    "computer_choice = \"paper\"\n",
    "\n",
    "if player_choice == computer_choice:\n",
    "    print(\"tied\")\n",
    "elif (player_choice == \"paper\" and computer_choice == \"rock\") or (player_choice == \"scissors\" and computer_choice == \"paper\") or (player_choice == \"rock\" and computer_choice == \"scissors\"):\n",
    "    print(\"win\")\n",
    "else: print(\"lost\")"
   ]
  },
  {
   "cell_type": "code",
   "execution_count": 2,
   "metadata": {
    "id": "8oj6UD21mUrQ"
   },
   "outputs": [
    {
     "name": "stdout",
     "output_type": "stream",
     "text": [
      "isosceles\n"
     ]
    }
   ],
   "source": [
    "# C. Write the code that determines if the triangle is:\n",
    "#      equalateral - all three sides are equal in length\n",
    "#      scalene - all three sides are unequal in length\n",
    "#      isosceles - two sides are the same length\n",
    "side_a = 2\n",
    "side_b = 7\n",
    "side_c = 7\n",
    "\n",
    "if side_a == side_b and side_c:\n",
    "    print(\"equalateral\")\n",
    "elif side_a != side_b and side_a != side_c and side_b != side_c:\n",
    "    print(\"scalene\")\n",
    "else: print(\"isosceles\")"
   ]
  },
  {
   "cell_type": "code",
   "execution_count": null,
   "metadata": {
    "id": "Dj1dSBqJmUrQ"
   },
   "outputs": [],
   "source": [
    "# D. Calculate what season it is based upon this chart:\n",
    "#      Dec 21 - Mar 19: Winter\n",
    "#      Mar 20 - Jun 20: Spring\n",
    "#      Jun 21 - Sep 21: Summer\n",
    "#      Sep 22 - Dec 20: Fall\n",
    "# Print the result as follows:\n",
    "#      <Mmm> <dd> is in <season> \n",
    "month = \"Mar\"\n",
    "day = 25\n",
    "\n",
    "if (month == \"Dec\" and 21 <= day <= 31) or (month == \"Jan\" and 1 <= day <= 31) or (month == \"Feb\" and 1 <= day <= 28) or (month == \"Mar\" and 1 <= day <= 19):\n",
    "    print(f\"{month} {day} is in Winter\") \n",
    "elif (month == \"Mar\" and 20 <= day <= 31) or (month == \"Apr\" and 1 <= day <= 30) or (month == \"May\" and 1 <= day <= 31) or (month == \"Jun\" and 1 <= day <= 20):\n",
    "    print(f\"{month} {day} is in Spring\") \n",
    "elif (month == \"Jun\" and 21 <= day <= 30) or (month == \"Jul\" and 1 <= day <= 31) or (month == \"Aug\" and 1 <= day <= 31) or (month == \"Sep\" and 1 <= day <= 21):\n",
    "    print(f\"{month} {day} is in Summer\")\n",
    "elif (month == \"Sep\" and 22 <= day <= 30) or (month == \"Oct\" and 1 <= day <= 31) or (month == \"Nov\" and 1 <= day <= 30) or (month == \"Dec\" and 1 <= day <= 20):\n",
    "    print(f\"{month} {day} is in Autumn\")\n"
   ]
  },
  {
   "cell_type": "code",
   "execution_count": 12,
   "metadata": {
    "id": "G7jYqqppmUrQ"
   },
   "outputs": [
    {
     "name": "stdout",
     "output_type": "stream",
     "text": [
      "The chicken ate the grain\n"
     ]
    }
   ],
   "source": [
    "# E. The Farmer's Boat\n",
    "boat = {\n",
    "    \"has_fox\": False,\n",
    "    \"has_chicken\": True,\n",
    "    \"has_grain\": True\n",
    "}\n",
    "\n",
    "if boat[\"has_fox\"] and boat[\"has_chicken\"]and boat[\"has_grain\"]:\n",
    "    print(\"The boat was too heavy and sank\")\n",
    "elif boat[\"has_fox\"] and boat[\"has_chicken\"]:\n",
    "    print(\"The fox ate the chicken\")\n",
    "elif boat[\"has_chicken\"] and boat[\"has_grain\"]:\n",
    "    print(\"The chicken ate the grain\")\n",
    "elif boat[\"has_fox\"]==False and boat[\"has_chicken\"]==False and boat[\"has_grain\"]==False:\n",
    "    print(\"The boat sank from disuse\")\n",
    "else: print(\"The boat is in a valid, productive state. Go boat!\")\n",
    "\n",
    "    \n",
    "        # 1. If all three properties are true, print \"The boat was too heavy and sank\"\n",
    "        # 2. If the boat's has_fox and has_chicken properties are true, print \"The fox ate the chicken\" \n",
    "        # 3. If the boat's has_chicken and has_grain propertes are true, print \"The chicken ate the grain\"\n",
    "        # 4. If none of them are true, print \"The boat sank from disuse\"\n",
    "        # 5. Otherwise, print \"The boat is in a valid, productive state. Go boat!\""
   ]
  }
 ],
 "metadata": {
  "colab": {
   "provenance": []
  },
  "kernelspec": {
   "display_name": "Python 3 (ipykernel)",
   "language": "python",
   "name": "python3"
  },
  "language_info": {
   "codemirror_mode": {
    "name": "ipython",
    "version": 3
   },
   "file_extension": ".py",
   "mimetype": "text/x-python",
   "name": "python",
   "nbconvert_exporter": "python",
   "pygments_lexer": "ipython3",
   "version": "3.10.9"
  }
 },
 "nbformat": 4,
 "nbformat_minor": 1
}
