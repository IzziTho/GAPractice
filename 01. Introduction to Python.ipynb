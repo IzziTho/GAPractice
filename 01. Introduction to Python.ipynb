{
 "cells": [
  {
   "cell_type": "code",
   "execution_count": 1,
   "metadata": {
    "colab": {
     "base_uri": "https://localhost:8080/"
    },
    "executionInfo": {
     "elapsed": 7,
     "status": "ok",
     "timestamp": 1683442569159,
     "user": {
      "displayName": "Jack Tyler-Whittle",
      "userId": "06514061069238650616"
     },
     "user_tz": -60
    },
    "id": "vz8gyFpDhSPU",
    "outputId": "4471f47e-8851-49cf-bf00-a2e597b5a557",
    "scrolled": false
   },
   "outputs": [
    {
     "name": "stdout",
     "output_type": "stream",
     "text": [
      "The Zen of Python, by Tim Peters\n",
      "\n",
      "Beautiful is better than ugly.\n",
      "Explicit is better than implicit.\n",
      "Simple is better than complex.\n",
      "Complex is better than complicated.\n",
      "Flat is better than nested.\n",
      "Sparse is better than dense.\n",
      "Readability counts.\n",
      "Special cases aren't special enough to break the rules.\n",
      "Although practicality beats purity.\n",
      "Errors should never pass silently.\n",
      "Unless explicitly silenced.\n",
      "In the face of ambiguity, refuse the temptation to guess.\n",
      "There should be one-- and preferably only one --obvious way to do it.\n",
      "Although that way may not be obvious at first unless you're Dutch.\n",
      "Now is better than never.\n",
      "Although never is often better than *right* now.\n",
      "If the implementation is hard to explain, it's a bad idea.\n",
      "If the implementation is easy to explain, it may be a good idea.\n",
      "Namespaces are one honking great idea -- let's do more of those!\n"
     ]
    }
   ],
   "source": [
    "# 1.1 Our First Jupyter Cell\n",
    "# Select this cell and execute it by clicking run or using the shortcut, ctrl + enter\n",
    "# This will display the \"Zen of Python,\" describing the philosophy behind python\n",
    "import this"
   ]
  },
  {
   "cell_type": "code",
   "execution_count": 3,
   "metadata": {
    "id": "6aE0JRQzhSPW"
   },
   "outputs": [
    {
     "name": "stdout",
     "output_type": "stream",
     "text": [
      "Hi!, my name is Izzi and I am excited about learning python.\n"
     ]
    }
   ],
   "source": [
    "# 1.2 Introduce Yourself\n",
    "# Define the variables greeting, name, and mood, and assign them string-type values\n",
    "# Then, execute this cell to see an introduction message printed to the console\n",
    "greeting = \"Hi!\"\n",
    "name = \"Izzi\"\n",
    "mood = \"excited\"\n",
    "\n",
    "print(greeting + \", my name is \" + name + \" and I am \" + mood + \" about learning python.\")"
   ]
  },
  {
   "cell_type": "code",
   "execution_count": 2,
   "metadata": {
    "id": "5b-_TBhOhSPX"
   },
   "outputs": [
    {
     "name": "stdout",
     "output_type": "stream",
     "text": [
      "4.16\n"
     ]
    }
   ],
   "source": [
    "# 1.3 Operators and Updating Variables\n",
    "# Define numeric variables for the month and day of your birthdate to be used whenever requested\n",
    "day = 16\n",
    "month = 4\n",
    "# Write a new line of code beneath each comment, always updating the birthdate variable as you do so\n",
    "birthdate = 7\n",
    "\n",
    "# Multiply by the month \n",
    "birthdate = birthdate * month\n",
    "# Subtract 1\n",
    "birthdate = birthdate - 1\n",
    "# Multiply by 13\n",
    "birthdate = birthdate * 13\n",
    "# Add the day of your birth\n",
    "birthdate = birthdate + day\n",
    "# Add 3\n",
    "birthdate = birthdate + 3\n",
    "# Multiply by 11\n",
    "birthdate = birthdate * 11\n",
    "# Subtract the month of your birth\n",
    "birthdate = birthdate - month\n",
    "# Subtract the day of your birth\n",
    "birthdate = birthdate - day\n",
    "# Divide by 10\n",
    "birthdate = birthdate / 10\n",
    "# Add 11\n",
    "birthdate = birthdate + 11\n",
    "# Divide by 100\n",
    "birthdate = birthdate / 100\n",
    "# birthdate should now be a floating point number with the day.month of your birthday\n",
    "print(birthdate)"
   ]
  },
  {
   "cell_type": "code",
   "execution_count": 10,
   "metadata": {
    "id": "F-FtvFjVhSPY"
   },
   "outputs": [
    {
     "name": "stdout",
     "output_type": "stream",
     "text": [
      "Hey! My name is Izzi and I'm in Hadlow. I'm 496 years old and I have a pet dolphin that I like to hopscotch with. His name is Albert.\n"
     ]
    }
   ],
   "source": [
    "# 1.4 Python Mad Libs\n",
    "# Create a Mad Libs style game using string concatenation or the \"f-string\" style string interpolation\n",
    "# First, define at least 7 variables with names such as adjective_one or noun_three\n",
    "# Then, plug those variables into a long string that tells a story using those variables\n",
    "\n",
    "exclamation = \"Hey\"\n",
    "my_name = \"Izzi\"\n",
    "place_name = \"Hadlow\"\n",
    "random_number = \"496\"\n",
    "animal = \"dolphin\"\n",
    "activity = \"hopscotch\"\n",
    "random_name = \"Albert\"\n",
    "\n",
    "message = f\"{exclamation}! My name is {my_name} and I'm in {place_name}. I'm {random_number} years old and I have a pet {animal} that I like to {activity} with. His name is {random_name}.\"\n",
    "\n",
    "print(message)"
   ]
  },
  {
   "cell_type": "code",
   "execution_count": null,
   "metadata": {
    "id": "Hb9x_vA9hSPZ"
   },
   "outputs": [],
   "source": [
    "# 1.5 Code Fast and Break Things\n",
    "# Each of the following lines of code is mistaken in some way\n",
    "# Either they contain errors or don't do what the user would expect them to\n",
    "# Correct each example, and write a comment explaining what went wrong"
   ]
  },
  {
   "cell_type": "code",
   "execution_count": 12,
   "metadata": {
    "id": "QZg1dZgPhSPa"
   },
   "outputs": [
    {
     "name": "stdout",
     "output_type": "stream",
     "text": [
      "this is my variable\n"
     ]
    }
   ],
   "source": [
    "# A.\n",
    "my_variable = \"this is my variable\"\n",
    "print(my_variable)\n",
    "\n",
    "# There was no value for my_variable."
   ]
  },
  {
   "cell_type": "code",
   "execution_count": 14,
   "metadata": {
    "id": "eVXYnvyZhSPa"
   },
   "outputs": [
    {
     "name": "stdout",
     "output_type": "stream",
     "text": [
      "10\n"
     ]
    }
   ],
   "source": [
    "# B.\n",
    "# Why didn't it print ten?\n",
    "my_number = 5\n",
    "my_number = my_number + 5\n",
    "print(my_number)\n",
    "\n",
    "# The variable has not been updated. "
   ]
  },
  {
   "cell_type": "code",
   "execution_count": 17,
   "metadata": {
    "id": "XxdWt2H0hSPb"
   },
   "outputs": [
    {
     "name": "stdout",
     "output_type": "stream",
     "text": [
      "5Hello\n"
     ]
    }
   ],
   "source": [
    "# C.\n",
    "my_num = 5\n",
    "my_string = \"Hello\"\n",
    "# print(my_num + my_string)\n",
    "\n",
    "print(str(my_num) + my_string)\n",
    "\n",
    "# We need to perform operations on varibles that are compatible. I.e, you can't add 5 to \"Hello\"\n",
    "# First you have to type cast a variable"
   ]
  },
  {
   "cell_type": "code",
   "execution_count": 19,
   "metadata": {
    "id": "CRzRVWJ2hSPb"
   },
   "outputs": [
    {
     "name": "stdout",
     "output_type": "stream",
     "text": [
      "30\n"
     ]
    }
   ],
   "source": [
    "# D.\n",
    "# The user expected the result to be 30!\n",
    "my_num1 = \"10\"\n",
    "my_num2 = \"20\"\n",
    "# print(my_num1 + my_num2)\n",
    "# 1020\n",
    "# This code is just printing 10, then printing 20. The variables need to be integers (or floats) to add numbers correctly. \n",
    "\n",
    "print(int(my_num1)+int(my_num2))"
   ]
  },
  {
   "cell_type": "code",
   "execution_count": 21,
   "metadata": {
    "id": "RC1pj4nKhSPb"
   },
   "outputs": [
    {
     "name": "stdout",
     "output_type": "stream",
     "text": [
      "I enjoy python in the morning\n"
     ]
    }
   ],
   "source": [
    "# E.\n",
    "# The user expected the message to read \"I enjoy python in the morning.\"\n",
    "language = \"python\"\n",
    "# print(f\"I enjoy language in the morning\")\n",
    "# I enjoy language in the morning\n",
    "# Need to use the {} brackets around your variable. \n",
    "\n",
    "print(f\"I enjoy {language} in the morning\")"
   ]
  },
  {
   "cell_type": "code",
   "execution_count": 24,
   "metadata": {
    "id": "hDSq6SXlhSPc"
   },
   "outputs": [
    {
     "name": "stdout",
     "output_type": "stream",
     "text": [
      "There are 2 plums at home for me\n"
     ]
    }
   ],
   "source": [
    "# F.\n",
    "# The user expected the message to read \"There are 2 plums at home for me\"\n",
    "number_of_plums = 2\n",
    "who_plums_are_for = \"me\"\n",
    "print(\"There are \" + str(number_of_plums) + \" plums at home for \" + who_plums_are_for)\n",
    "\n",
    "# who_plums_are_for should be a string. \n",
    "# need to convert number_of_plums into a string\n",
    "\n"
   ]
  },
  {
   "cell_type": "code",
   "execution_count": null,
   "metadata": {
    "id": "LKoQKJJihSPc"
   },
   "outputs": [],
   "source": [
    "# 1.6 How many ways to print with variables\n",
    "# Programming provides many ways of doing the same thing\n",
    "# We've learned about concatenation and f-string interpolation so far\n",
    "# Below, research and demonstrate four different ways of including variables in a string in python\n",
    "# You don't need to understand exactly how they're working to get them to work!"
   ]
  },
  {
   "cell_type": "code",
   "execution_count": 31,
   "metadata": {},
   "outputs": [
    {
     "name": "stdout",
     "output_type": "stream",
     "text": [
      "Name: Izzi , Age: 30 , Height: 1.8 m\n"
     ]
    }
   ],
   "source": [
    "# THE COMMA\n",
    "name = \"Izzi\"\n",
    "age = 30\n",
    "height = 1.80\n",
    "print(\"Name:\", name, \", Age:\", age, \", Height:\", height, \"m\")"
   ]
  },
  {
   "cell_type": "code",
   "execution_count": 32,
   "metadata": {},
   "outputs": [
    {
     "name": "stdout",
     "output_type": "stream",
     "text": [
      "Name: Izzi, Age: 30, Height: 1.800000m\n"
     ]
    }
   ],
   "source": [
    "# THE % OPERATOR\n",
    "name = \"Izzi\"\n",
    "age = 30\n",
    "height = 1.80\n",
    "print(\"Name: %s, Age: %d, Height: %fm\" % (name, age, height))"
   ]
  },
  {
   "cell_type": "code",
   "execution_count": 33,
   "metadata": {},
   "outputs": [
    {
     "name": "stdout",
     "output_type": "stream",
     "text": [
      "Name: Izzi, Age: 30, Height: 1.8m\n"
     ]
    }
   ],
   "source": [
    "#THE STING FORMAT METHOD\n",
    "name = \"Izzi\"\n",
    "age = 30\n",
    "height = 1.80\n",
    "print(\"Name: {}, Age: {}, Height: {}m\".format(name, age, height))"
   ]
  },
  {
   "cell_type": "code",
   "execution_count": 34,
   "metadata": {},
   "outputs": [
    {
     "name": "stdout",
     "output_type": "stream",
     "text": [
      "Enter you're name:Izzi\n",
      "Hey Izzi! You're a wonderful human and I'm so glad you're here!\n"
     ]
    }
   ],
   "source": [
    "user_name = input(\"Enter you're name:\")\n",
    "\n",
    "print(f\"Hey {user_name}! You're a wonderful human and I'm so glad you're here!\")"
   ]
  },
  {
   "cell_type": "code",
   "execution_count": null,
   "metadata": {},
   "outputs": [],
   "source": []
  }
 ],
 "metadata": {
  "colab": {
   "provenance": []
  },
  "kernelspec": {
   "display_name": "Python 3 (ipykernel)",
   "language": "python",
   "name": "python3"
  },
  "language_info": {
   "codemirror_mode": {
    "name": "ipython",
    "version": 3
   },
   "file_extension": ".py",
   "mimetype": "text/x-python",
   "name": "python",
   "nbconvert_exporter": "python",
   "pygments_lexer": "ipython3",
   "version": "3.10.9"
  }
 },
 "nbformat": 4,
 "nbformat_minor": 1
}
