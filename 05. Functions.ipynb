{
 "cells": [
  {
   "cell_type": "code",
   "execution_count": null,
   "metadata": {},
   "outputs": [],
   "source": [
    "# 5.1 Functions"
   ]
  },
  {
   "cell_type": "code",
   "execution_count": 2,
   "metadata": {},
   "outputs": [
    {
     "name": "stdout",
     "output_type": "stream",
     "text": [
      "Hello, Mr. Bean\n"
     ]
    },
    {
     "data": {
      "text/plain": [
       "'Hello, Mr. Bean'"
      ]
     },
     "execution_count": 2,
     "metadata": {},
     "output_type": "execute_result"
    }
   ],
   "source": [
    "# A. Write a function that accepts one parameter, name\n",
    "#    The function should print the message \"Hello, _____.\" filling in the blank with the name\n",
    "\n",
    "user_name = input(\"What's your name?\")\n",
    "\n",
    "def message(name):\n",
    "    print(f\"Hello, {name}\")\n",
    "    return(f\"Hello, {name}\")\n",
    "    \n",
    "message(user_name)"
   ]
  },
  {
   "cell_type": "code",
   "execution_count": null,
   "metadata": {},
   "outputs": [],
   "source": [
    "# B. Write a function that accepts one parameter, a number\n",
    "#    The function should return true or false depending on whether the number is even\n",
    "\n",
    "def odd_or_even(number):\n",
    "    if number % 2 == 0:\n",
    "        return \"even\"\n",
    "    return \"odd\"\n",
    "\n",
    "odd_or_even(83)\n"
   ]
  },
  {
   "cell_type": "code",
   "execution_count": null,
   "metadata": {},
   "outputs": [],
   "source": [
    "# C. Write a function that accepts one parameter, a list\n",
    "#    The function should return the sum total of all numbers in the list, using a loop\n",
    "\n",
    "def sum_the_list(list):\n",
    "    total = 0\n",
    "    for i in list:\n",
    "        total += i\n",
    "    return total\n",
    "\n",
    "sum_the_list([1,2,3,4,5])\n",
    "\n"
   ]
  },
  {
   "cell_type": "code",
   "execution_count": 3,
   "metadata": {},
   "outputs": [
    {
     "data": {
      "text/plain": [
       "'Introducing John Smith, Coder Extrordinare!'"
      ]
     },
     "execution_count": 3,
     "metadata": {},
     "output_type": "execute_result"
    }
   ],
   "source": [
    "# D. Write a function that accepts one parameter, a dictionary\n",
    "#    The function should print the message \"Introducing ______ ______, ________!\"\n",
    "#    Fill in the blanks with the \"first_name\", \"last_name\", and \"title\" properties of the dictionary\n",
    "\n",
    "my_dictionary = {\"first_name\": \"John\", \"last_name\": \"Smith\", \"Title\": \"Coder Extrordinare\"}\n",
    "\n",
    "def intro(dic):\n",
    "    return f'Introducing {dic[\"first_name\"]} {dic[\"last_name\"]}, {dic[\"Title\"]}!'\n",
    "\n",
    "intro(my_dictionary)"
   ]
  },
  {
   "cell_type": "code",
   "execution_count": null,
   "metadata": {},
   "outputs": [],
   "source": [
    "# 5.2 Problem-Solving Functions"
   ]
  },
  {
   "cell_type": "code",
   "execution_count": 11,
   "metadata": {},
   "outputs": [
    {
     "name": "stdout",
     "output_type": "stream",
     "text": [
      "9\n"
     ]
    },
    {
     "data": {
      "text/plain": [
       "'pineapple'"
      ]
     },
     "execution_count": 11,
     "metadata": {},
     "output_type": "execute_result"
    }
   ],
   "source": [
    "# A. Find the longest string in a given list of strings\n",
    "\n",
    "def find_longest_string(list):\n",
    "    count = 0\n",
    "\n",
    "    for word in list:\n",
    "        if len(word) > count:\n",
    "            count = len(word)\n",
    "            longest_word = word\n",
    "    print(count)\n",
    "    return longest_word\n",
    "\n",
    "\n",
    "find_longest_string([\"apple\", \"banana\", \"pineapple\", \"kiwi\" ])"
   ]
  },
  {
   "cell_type": "code",
   "execution_count": 12,
   "metadata": {},
   "outputs": [
    {
     "data": {
      "text/plain": [
       "'4 is in your list!'"
      ]
     },
     "execution_count": 12,
     "metadata": {},
     "output_type": "execute_result"
    }
   ],
   "source": [
    "# B. Determine whether a given list contains a given value\n",
    "\n",
    "def does_it_contain(list, value):\n",
    "    if value in list:\n",
    "        return f\"{value} is in your list!\"\n",
    "    return f\"{value} is not in your list.\"\n",
    "\n",
    "does_it_contain([1,2,3,4,5,6,7,8,9], 4)"
   ]
  },
  {
   "cell_type": "code",
   "execution_count": 3,
   "metadata": {},
   "outputs": [
    {
     "data": {
      "text/plain": [
       "10"
      ]
     },
     "execution_count": 3,
     "metadata": {},
     "output_type": "execute_result"
    }
   ],
   "source": [
    "# C. Count how many times a given string contains a given letter\n",
    "\n",
    "def count_letter(string, letter):\n",
    "    return string.lower().count(letter)\n",
    "\n",
    "count_letter(\"I'm learning Python and loving it! It's so satisfying when I get it right\", \"i\")\n"
   ]
  },
  {
   "cell_type": "code",
   "execution_count": 2,
   "metadata": {},
   "outputs": [
    {
     "name": "stdout",
     "output_type": "stream",
     "text": [
      "7\n"
     ]
    },
    {
     "data": {
      "text/plain": [
       "'a'"
      ]
     },
     "execution_count": 2,
     "metadata": {},
     "output_type": "execute_result"
    }
   ],
   "source": [
    "# D. Find the most common letter in a given string, and use the previous function in your answer\n",
    "\n",
    "def find_mode_string(string):\n",
    "    count = 0\n",
    "    no_space_string = string.replace(\" \", \"\")\n",
    "\n",
    "    for letter in string:\n",
    "        number_of_letter_occurrences = no_space_string.count(letter)\n",
    "\n",
    "        if number_of_letter_occurrences > count:\n",
    "            count = number_of_letter_occurrences\n",
    "            mode_letter = letter\n",
    "\n",
    "    print(count)\n",
    "    return mode_letter\n",
    "\n",
    "find_mode_string(\"My old man's a dustman, he wears a dustman hat\")"
   ]
  },
  {
   "cell_type": "code",
   "execution_count": 1,
   "metadata": {},
   "outputs": [
    {
     "data": {
      "text/plain": [
       "10.0"
      ]
     },
     "execution_count": 1,
     "metadata": {},
     "output_type": "execute_result"
    }
   ],
   "source": [
    "# E. Find the area of a triangle given its length and height as parameters\n",
    "\n",
    "def area_of_triangle(length, height):\n",
    "    area = 0.5 * (length * height)\n",
    "    return area\n",
    "\n",
    "area_of_triangle(4, 5)"
   ]
  }
 ],
 "metadata": {
  "kernelspec": {
   "display_name": "Python 3",
   "language": "python",
   "name": "python3"
  },
  "language_info": {
   "codemirror_mode": {
    "name": "ipython",
    "version": 3
   },
   "file_extension": ".py",
   "mimetype": "text/x-python",
   "name": "python",
   "nbconvert_exporter": "python",
   "pygments_lexer": "ipython3",
   "version": "3.6.5"
  }
 },
 "nbformat": 4,
 "nbformat_minor": 4
}
